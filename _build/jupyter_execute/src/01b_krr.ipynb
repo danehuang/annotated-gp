{
 "cells": [
  {
   "cell_type": "code",
   "execution_count": 1,
   "id": "145c85a3",
   "metadata": {},
   "outputs": [],
   "source": [
    "import jax\n",
    "from jax import random, Array\n",
    "import jax.numpy as jnp\n",
    "\n",
    "import matplotlib.pyplot as plt\n",
    "from tqdm.auto import tqdm\n",
    "from typing import *\n",
    "\n",
    "from gp import k, mk_cov, create_toy_dataset, PlotContext\n",
    "\n",
    "key = random.PRNGKey(42)  # Create a random key                        "
   ]
  },
  {
   "cell_type": "markdown",
   "id": "3a80a9af",
   "metadata": {},
   "source": [
    "# Kernel Ridge Regression (KRR)\n",
    "\n",
    "We introduce a model called **Kernel Ridge Regression** (KRR) that is closely related to GP regression. Like GP regression, KRR can be used to perform function approximation. We reintroduce our toy dataset from before below."
   ]
  },
  {
   "cell_type": "code",
   "execution_count": 2,
   "id": "0820369d",
   "metadata": {},
   "outputs": [
    {
     "data": {
      "image/png": "[encoded data removed]",
      "text/plain": [
       "<Figure size 800x400 with 1 Axes>"
      ]
     },
     "metadata": {},
     "output_type": "display_data"
    }
   ],
   "source": [
    "# Create dataset\n",
    "f = lambda x: jnp.sin(x)\n",
    "xs, ys = create_toy_dataset(f)\n",
    "N = len(xs)\n",
    "xs, ys\n",
    "\n",
    "test_xs = jnp.linspace(-6, 6)\n",
    "with PlotContext(title=\"Dataset\", xlabel=\"X\", ylabel=\"Y\") as ax:\n",
    "    plt.plot(xs, ys, marker=\"o\", linestyle=\"None\", label=\"Dataset\")\n",
    "    plt.plot(test_xs, f(test_xs), label=\"f (unobserved)\")"
   ]
  },
  {
   "cell_type": "markdown",
   "id": "9f9e9889",
   "metadata": {},
   "source": [
    "## Kernel Ridge Regression\n",
    "\n",
    "A Kernel Ridge Regression (KRR) is parameterized by a positive semidefinite kernel $k: \\mathbb{R}^D \\times \\mathbb{R}^D \\rightarrow \\mathbb{R}$, like a GP, and weights $\\alpha: \\mathbb{R}^N$. We can write the prediction given by a KRR as\n",
    "\n",
    "$$\n",
    "krr(x_*; \\alpha) = K_{x_* x}\\alpha\n",
    "$$\n",
    "\n",
    "where\n",
    "- $K_{x_* x} = (k(x_*, x_1) \\dots k(x_*, x_N))^T$ and\n",
    "- $\\alpha$ is a vector of $N$ weights that is learned."
   ]
  },
  {
   "cell_type": "code",
   "execution_count": 3,
   "id": "fe4491e3",
   "metadata": {},
   "outputs": [],
   "source": [
    "def krr(k: Callable, xs: Array, alpha: Array, x_star: Array) -> Array:\n",
    "    \"\"\"Kernel ridge regression.\n",
    "    \"\"\"\n",
    "    K_star_x = mk_cov(k, x_star, xs).reshape(-1)\n",
    "    return K_star_x @ alpha"
   ]
  },
  {
   "cell_type": "markdown",
   "id": "d96b5b01",
   "metadata": {},
   "source": [
    "### Learning the Weights: Loss Function\n",
    "\n",
    "Given a dataset $\\mathcal{D} = \\{(x_i, y_i) \\}_{1 \\leq i \\leq N}$, the weights of a KRR $\\alpha$ are choosen to minimize the loss function\n",
    "\\begin{align*}\n",
    "\\mathcal{L}(\\alpha; \\mathcal{D}) & = (y - K_{xx}\\alpha)^T\\Sigma^{-1}(y - K_{xx}\\alpha) + \\alpha^T K_{xx} \\alpha\n",
    "\\end{align*}\n",
    "(see Appendix: Checking Loss Minimization). The term $\\alpha^T K_{xx} \\alpha$ is a **regularization term**. The regularization term ensures that the solution is unique."
   ]
  },
  {
   "cell_type": "code",
   "execution_count": 4,
   "id": "5e48042b",
   "metadata": {},
   "outputs": [],
   "source": [
    "def loss(k: Callable, Sigma: Array, xs: Array, ys: Array, K_xx: Array, alpha: Array) -> float:\n",
    "    \"\"\"Loss function.\n",
    "    \"\"\"\n",
    "    diff = ys.flatten() - jax.vmap(lambda x: krr(k, xs, alpha, x))(xs)\n",
    "    return diff.transpose() @ jnp.linalg.inv(Sigma) @ diff + alpha.transpose() @ K_xx @ alpha"
   ]
  },
  {
   "cell_type": "code",
   "execution_count": 5,
   "id": "d50881e4",
   "metadata": {},
   "outputs": [
    {
     "name": "stdout",
     "output_type": "stream",
     "text": [
      "534.4811\n",
      "3.888586\n",
      "1428.2604\n"
     ]
    }
   ],
   "source": [
    "K_xx = mk_cov(k, xs, xs)\n",
    "Sigma = jnp.diag(1e-2 * jnp.ones(N))\n",
    "\n",
    "print(loss(k, Sigma, xs, ys, K_xx, jnp.array([.5, -1, .5])))\n",
    "print(loss(k, Sigma, xs, ys, K_xx, jnp.array([-1, .5, .5])))\n",
    "print(loss(k, Sigma, xs, ys, K_xx, jnp.array([.5, -1, -1])))"
   ]
  },
  {
   "cell_type": "markdown",
   "id": "6a7fc953",
   "metadata": {},
   "source": [
    "### Learning the Weights: Solution\n",
    "\n",
    "The minimum can be solved in closed form and is given by\n",
    "\n",
    "$$\n",
    "\\alpha = (K_{xx} + \\Sigma)^{-1}y \\,.\n",
    "$$\n",
    "\n",
    "They can be obtained by minimizing $\\mathcal{L}(\\alpha; \\mathcal{D})$ with respect to $\\alpha$ (See Appendix: KRR). Note that this agrees with the mean of the test point prediction from a probabilistic view of a GP since the prediction\n",
    "\n",
    "$$\n",
    "krr(x_*; \\alpha) = K_{*f}\\alpha = K_{*f}(K_{ff} + \\Sigma)^{-1}y\n",
    "$$\n",
    "\n",
    "is the mean of $p(f_* | y)$. "
   ]
  },
  {
   "cell_type": "code",
   "execution_count": 6,
   "id": "709dd286",
   "metadata": {},
   "outputs": [],
   "source": [
    "def fit_krr(k: Callable, Sigma: Array, xs: Array, ys: Array) -> Array:\n",
    "    \"\"\"The same as for fitting a GP.\n",
    "    \"\"\"\n",
    "    K_xx = mk_cov(k, xs, xs)\n",
    "    alpha = jnp.linalg.inv(K_xx + Sigma) @ ys\n",
    "    return K_xx, alpha"
   ]
  },
  {
   "cell_type": "code",
   "execution_count": 7,
   "id": "e4b1af55",
   "metadata": {},
   "outputs": [
    {
     "data": {
      "text/plain": [
       "Array([[-0.90569925],\n",
       "       [ 0.47276443],\n",
       "       [ 0.6166882 ]], dtype=float32)"
      ]
     },
     "execution_count": 7,
     "metadata": {},
     "output_type": "execute_result"
    }
   ],
   "source": [
    "_, alpha_star = fit_krr(k, Sigma, xs, ys)\n",
    "alpha_star"
   ]
  },
  {
   "cell_type": "code",
   "execution_count": 8,
   "id": "d542a9e4",
   "metadata": {},
   "outputs": [
    {
     "data": {
      "image/png": "[encoded data removed]",
      "text/plain": [
       "<Figure size 800x400 with 1 Axes>"
      ]
     },
     "metadata": {},
     "output_type": "display_data"
    }
   ],
   "source": [
    "test_xs = jnp.linspace(-6, 6, 40).reshape(-1, 1)\n",
    "\n",
    "with PlotContext(title=\"KRR\", xlabel=\"X\", ylabel=\"Y\") as ax:\n",
    "    # Plot dataset\n",
    "    plt.plot(xs, ys, marker=\"o\", linestyle=\"None\", label=\"Dataset\")\n",
    "    plt.plot(test_xs, f(test_xs), label=\"f (unobserved)\")\n",
    "\n",
    "    # Plot KRR\n",
    "    plt.plot(test_xs, [krr(k, xs, alpha_star, x) for x in test_xs], linestyle=\"dotted\", label=r\"krr(x_* ; \\alpha_0)\")"
   ]
  },
  {
   "cell_type": "markdown",
   "id": "c68deb18",
   "metadata": {},
   "source": [
    "## Summary\n",
    "\n",
    "1. Introduced KRR, a closely related model to GP regression.\n",
    "2. Illustrated KRR on a toy dataset."
   ]
  },
  {
   "cell_type": "markdown",
   "id": "a78661cc",
   "metadata": {},
   "source": [
    "### Appendix: KRR\n",
    "\n",
    "We can check that the minima of \n",
    "\n",
    "$$\n",
    "\\mathcal{L}(\\alpha; \\mathcal{D}) = (y - K_{xx}\\alpha)^T \\Sigma^{-1} (y - K_{xx}\\alpha) + \\alpha^T K_{xx} \\alpha\n",
    "$$\n",
    "\n",
    "with respect to the KRR model is\n",
    "\n",
    "$$\n",
    "\\alpha = (K_{xx} + \\Sigma)^{-1}y \\,.\n",
    "$$\n",
    "\n",
    "\\begin{align*}\n",
    "\\operatorname{argmin}_\\alpha \\mathcal{L}(\\alpha; \\mathcal{D}) & \\iff \\nabla_{\\alpha^T} \\mathcal{L}(\\alpha; \\mathcal{D}) = 0 \\tag{convex} \\\\\n",
    "& \\iff -K_{xx}\\Sigma^{-1}y + K_{xx}\\Sigma^{-1}K_{xx}\\alpha + K_{MM}\\alpha = 0 \\tag{gradient} \\\\\n",
    "& \\iff K_{xx}\\alpha + \\Sigma\\alpha = y \\tag{multiply by $\\Sigma K_{xx}^{-1}$ and rearrange} \\\\\n",
    "& \\iff \\alpha = (K_{xx} + \\Sigma)^{-1}y \\tag{positive semi-definite}\n",
    "\\end{align*}"
   ]
  },
  {
   "cell_type": "markdown",
   "id": "73516ae0",
   "metadata": {},
   "source": [
    "### Appendix: Checking Loss Minimization\n",
    "\n",
    "As a sanity check, we can try to minimize the loss function with gradient descent to see if we get the same answer."
   ]
  },
  {
   "cell_type": "code",
   "execution_count": 9,
   "id": "19ef5132",
   "metadata": {},
   "outputs": [],
   "source": [
    "def grad_desc(loss: Callable, k: Array, Sigma: Array, xs: Array, ys: Array, alpha_0, lr=0.00001, iterations=100):\n",
    "    \"\"\"Simple gradient descent procedure to optimize loss function.\n",
    "    \"\"\"\n",
    "    pbar = tqdm(range(iterations))\n",
    "    losses = []\n",
    "    for i in pbar:\n",
    "        step = lr * jax.jacrev(loss, argnums=5)(k, Sigma, xs, ys, K_xx, alpha_0)\n",
    "        alpha_0 = alpha_0 - step\n",
    "        l = loss(k, Sigma, xs, ys, K_xx, alpha_0)\n",
    "        losses += [l]\n",
    "        pbar.set_postfix(loss=l)\n",
    "    return alpha_0, losses"
   ]
  },
  {
   "cell_type": "code",
   "execution_count": 10,
   "id": "2e38b456",
   "metadata": {},
   "outputs": [
    {
     "data": {
      "application/vnd.jupyter.widget-view+json": {
       "model_id": "21690bf75e3c4fb69179809c2acaad3e",
       "version_major": 2,
       "version_minor": 0
      },
      "text/plain": [
       "  0%|          | 0/100 [00:00<?, ?it/s]"
      ]
     },
     "metadata": {},
     "output_type": "display_data"
    },
    {
     "data": {
      "image/png": "[encoded data removed]",
      "text/plain": [
       "<Figure size 800x400 with 2 Axes>"
      ]
     },
     "metadata": {},
     "output_type": "display_data"
    }
   ],
   "source": [
    "iterations = 100\n",
    "alpha_star, losses = grad_desc(loss, k, Sigma, xs, ys, jnp.ones(N), lr=0.0005, iterations=iterations)\n",
    "    \n",
    "plt.figure(figsize=(8, 4))\n",
    "plt.subplot(1, 2, 1)\n",
    "plt.plot(range(iterations), losses)\n",
    "plt.title(\"Training Curve\"); plt.xlabel(\"Iteration\"); plt.ylabel(\"Loss\")\n",
    "\n",
    "plt.subplot(1, 2, 2)\n",
    "plt.plot(xs, ys, marker=\"o\", linestyle=\"None\", label=\"Dataset\")\n",
    "plt.plot(jnp.linspace(-6, 6), f(jnp.linspace(-6, 6)), label=\"f\")\n",
    "plt.plot(test_xs, [krr(k, xs, alpha_star, x) for x in test_xs], linestyle=\"dotted\", label=r\"krr(x_* ; \\alpha_0)\")\n",
    "plt.title(\"KRR After Optimization\"); plt.xlabel(\"X\"); plt.ylabel(\"Y\"); plt.legend();"
   ]
  },
  {
   "cell_type": "code",
   "execution_count": 11,
   "id": "38419fd4",
   "metadata": {},
   "outputs": [
    {
     "name": "stdout",
     "output_type": "stream",
     "text": [
      "alpha [[-0.90569925]\n",
      " [ 0.47276443]\n",
      " [ 0.6166882 ]]\n",
      "alpha_* [-0.90585166  0.48388898  0.6055647 ]\n"
     ]
    }
   ],
   "source": [
    "# Checking that the function space and weight space solutions agree\n",
    "print(\"alpha\", jnp.linalg.inv(K_xx + Sigma) @ ys)\n",
    "print(\"alpha_*\", alpha_star)"
   ]
  },
  {
   "cell_type": "code",
   "execution_count": null,
   "id": "4e4f9f83",
   "metadata": {},
   "outputs": [],
   "source": []
  }
 ],
 "metadata": {
  "kernelspec": {
   "display_name": "Python 3 (ipykernel)",
   "language": "python",
   "name": "python3"
  },
  "language_info": {
   "codemirror_mode": {
    "name": "ipython",
    "version": 3
   },
   "file_extension": ".py",
   "mimetype": "text/x-python",
   "name": "python",
   "nbconvert_exporter": "python",
   "pygments_lexer": "ipython3",
   "version": "3.11.5"
  },
  "widgets": {
   "application/vnd.jupyter.widget-state+json": {
    "state": {
     "147d646ff5c444ed9467f7f97e12c02e": {
      "model_module": "@jupyter-widgets/controls",
      "model_module_version": "2.0.0",
      "model_name": "ProgressStyleModel",
      "state": {
       "_model_module": "@jupyter-widgets/controls",
       "_model_module_version": "2.0.0",
       "_model_name": "ProgressStyleModel",
       "_view_count": null,
       "_view_module": "@jupyter-widgets/base",
       "_view_module_version": "2.0.0",
       "_view_name": "StyleView",
       "bar_color": null,
       "description_width": ""
      }
     },
     "21690bf75e3c4fb69179809c2acaad3e": {
      "model_module": "@jupyter-widgets/controls",
      "model_module_version": "2.0.0",
      "model_name": "HBoxModel",
      "state": {
       "_dom_classes": [],
       "_model_module": "@jupyter-widgets/controls",
       "_model_module_version": "2.0.0",
       "_model_name": "HBoxModel",
       "_view_count": null,
       "_view_module": "@jupyter-widgets/controls",
       "_view_module_version": "2.0.0",
       "_view_name": "HBoxView",
       "box_style": "",
       "children": [
        "IPY_MODEL_a9b6c850503145fc9430df592317e54d",
        "IPY_MODEL_b610e07ec3114934ba32fa67bfbda03b",
        "IPY_MODEL_4fc70b55c20a4fa7a8105bf9deebc794"
       ],
       "layout": "IPY_MODEL_dd04515dc93a4a0c8c499bea5fbee4a9",
       "tabbable": null,
       "tooltip": null
      }
     },
     "4fc70b55c20a4fa7a8105bf9deebc794": {
      "model_module": "@jupyter-widgets/controls",
      "model_module_version": "2.0.0",
      "model_name": "HTMLModel",
      "state": {
       "_dom_classes": [],
       "_model_module": "@jupyter-widgets/controls",
       "_model_module_version": "2.0.0",
       "_model_name": "HTMLModel",
       "_view_count": null,
       "_view_module": "@jupyter-widgets/controls",
       "_view_module_version": "2.0.0",
       "_view_name": "HTMLView",
       "description": "",
       "description_allow_html": false,
       "layout": "IPY_MODEL_ff3e9d8ed2484a4e8e37c9599966e878",
       "placeholder": "​",
       "style": "IPY_MODEL_e22e2920a3e747ed935dc07fe8d9dd9a",
       "tabbable": null,
       "tooltip": null,
       "value": " 100/100 [00:00&lt;00:00, 130.57it/s, loss=1.786048]"
      }
     },
     "7fe52d73ac154900acb73fdf8c88b415": {
      "model_module": "@jupyter-widgets/controls",
      "model_module_version": "2.0.0",
      "model_name": "HTMLStyleModel",
      "state": {
       "_model_module": "@jupyter-widgets/controls",
       "_model_module_version": "2.0.0",
       "_model_name": "HTMLStyleModel",
       "_view_count": null,
       "_view_module": "@jupyter-widgets/base",
       "_view_module_version": "2.0.0",
       "_view_name": "StyleView",
       "background": null,
       "description_width": "",
       "font_size": null,
       "text_color": null
      }
     },
     "8d52172d19e9471e939b72ddbae5034a": {
      "model_module": "@jupyter-widgets/base",
      "model_module_version": "2.0.0",
      "model_name": "LayoutModel",
      "state": {
       "_model_module": "@jupyter-widgets/base",
       "_model_module_version": "2.0.0",
       "_model_name": "LayoutModel",
       "_view_count": null,
       "_view_module": "@jupyter-widgets/base",
       "_view_module_version": "2.0.0",
       "_view_name": "LayoutView",
       "align_content": null,
       "align_items": null,
       "align_self": null,
       "border_bottom": null,
       "border_left": null,
       "border_right": null,
       "border_top": null,
       "bottom": null,
       "display": null,
       "flex": null,
       "flex_flow": null,
       "grid_area": null,
       "grid_auto_columns": null,
       "grid_auto_flow": null,
       "grid_auto_rows": null,
       "grid_column": null,
       "grid_gap": null,
       "grid_row": null,
       "grid_template_areas": null,
       "grid_template_columns": null,
       "grid_template_rows": null,
       "height": null,
       "justify_content": null,
       "justify_items": null,
       "left": null,
       "margin": null,
       "max_height": null,
       "max_width": null,
       "min_height": null,
       "min_width": null,
       "object_fit": null,
       "object_position": null,
       "order": null,
       "overflow": null,
       "padding": null,
       "right": null,
       "top": null,
       "visibility": null,
       "width": null
      }
     },
     "a9b6c850503145fc9430df592317e54d": {
      "model_module": "@jupyter-widgets/controls",
      "model_module_version": "2.0.0",
      "model_name": "HTMLModel",
      "state": {
       "_dom_classes": [],
       "_model_module": "@jupyter-widgets/controls",
       "_model_module_version": "2.0.0",
       "_model_name": "HTMLModel",
       "_view_count": null,
       "_view_module": "@jupyter-widgets/controls",
       "_view_module_version": "2.0.0",
       "_view_name": "HTMLView",
       "description": "",
       "description_allow_html": false,
       "layout": "IPY_MODEL_f11e24795d3748d4a6ec315eec4b78de",
       "placeholder": "​",
       "style": "IPY_MODEL_7fe52d73ac154900acb73fdf8c88b415",
       "tabbable": null,
       "tooltip": null,
       "value": "100%"
      }
     },
     "b610e07ec3114934ba32fa67bfbda03b": {
      "model_module": "@jupyter-widgets/controls",
      "model_module_version": "2.0.0",
      "model_name": "FloatProgressModel",
      "state": {
       "_dom_classes": [],
       "_model_module": "@jupyter-widgets/controls",
       "_model_module_version": "2.0.0",
       "_model_name": "FloatProgressModel",
       "_view_count": null,
       "_view_module": "@jupyter-widgets/controls",
       "_view_module_version": "2.0.0",
       "_view_name": "ProgressView",
       "bar_style": "success",
       "description": "",
       "description_allow_html": false,
       "layout": "IPY_MODEL_8d52172d19e9471e939b72ddbae5034a",
       "max": 100.0,
       "min": 0.0,
       "orientation": "horizontal",
       "style": "IPY_MODEL_147d646ff5c444ed9467f7f97e12c02e",
       "tabbable": null,
       "tooltip": null,
       "value": 100.0
      }
     },
     "dd04515dc93a4a0c8c499bea5fbee4a9": {
      "model_module": "@jupyter-widgets/base",
      "model_module_version": "2.0.0",
      "model_name": "LayoutModel",
      "state": {
       "_model_module": "@jupyter-widgets/base",
       "_model_module_version": "2.0.0",
       "_model_name": "LayoutModel",
       "_view_count": null,
       "_view_module": "@jupyter-widgets/base",
       "_view_module_version": "2.0.0",
       "_view_name": "LayoutView",
       "align_content": null,
       "align_items": null,
       "align_self": null,
       "border_bottom": null,
       "border_left": null,
       "border_right": null,
       "border_top": null,
       "bottom": null,
       "display": null,
       "flex": null,
       "flex_flow": null,
       "grid_area": null,
       "grid_auto_columns": null,
       "grid_auto_flow": null,
       "grid_auto_rows": null,
       "grid_column": null,
       "grid_gap": null,
       "grid_row": null,
       "grid_template_areas": null,
       "grid_template_columns": null,
       "grid_template_rows": null,
       "height": null,
       "justify_content": null,
       "justify_items": null,
       "left": null,
       "margin": null,
       "max_height": null,
       "max_width": null,
       "min_height": null,
       "min_width": null,
       "object_fit": null,
       "object_position": null,
       "order": null,
       "overflow": null,
       "padding": null,
       "right": null,
       "top": null,
       "visibility": null,
       "width": null
      }
     },
     "e22e2920a3e747ed935dc07fe8d9dd9a": {
      "model_module": "@jupyter-widgets/controls",
      "model_module_version": "2.0.0",
      "model_name": "HTMLStyleModel",
      "state": {
       "_model_module": "@jupyter-widgets/controls",
       "_model_module_version": "2.0.0",
       "_model_name": "HTMLStyleModel",
       "_view_count": null,
       "_view_module": "@jupyter-widgets/base",
       "_view_module_version": "2.0.0",
       "_view_name": "StyleView",
       "background": null,
       "description_width": "",
       "font_size": null,
       "text_color": null
      }
     },
     "f11e24795d3748d4a6ec315eec4b78de": {
      "model_module": "@jupyter-widgets/base",
      "model_module_version": "2.0.0",
      "model_name": "LayoutModel",
      "state": {
       "_model_module": "@jupyter-widgets/base",
       "_model_module_version": "2.0.0",
       "_model_name": "LayoutModel",
       "_view_count": null,
       "_view_module": "@jupyter-widgets/base",
       "_view_module_version": "2.0.0",
       "_view_name": "LayoutView",
       "align_content": null,
       "align_items": null,
       "align_self": null,
       "border_bottom": null,
       "border_left": null,
       "border_right": null,
       "border_top": null,
       "bottom": null,
       "display": null,
       "flex": null,
       "flex_flow": null,
       "grid_area": null,
       "grid_auto_columns": null,
       "grid_auto_flow": null,
       "grid_auto_rows": null,
       "grid_column": null,
       "grid_gap": null,
       "grid_row": null,
       "grid_template_areas": null,
       "grid_template_columns": null,
       "grid_template_rows": null,
       "height": null,
       "justify_content": null,
       "justify_items": null,
       "left": null,
       "margin": null,
       "max_height": null,
       "max_width": null,
       "min_height": null,
       "min_width": null,
       "object_fit": null,
       "object_position": null,
       "order": null,
       "overflow": null,
       "padding": null,
       "right": null,
       "top": null,
       "visibility": null,
       "width": null
      }
     },
     "ff3e9d8ed2484a4e8e37c9599966e878": {
      "model_module": "@jupyter-widgets/base",
      "model_module_version": "2.0.0",
      "model_name": "LayoutModel",
      "state": {
       "_model_module": "@jupyter-widgets/base",
       "_model_module_version": "2.0.0",
       "_model_name": "LayoutModel",
       "_view_count": null,
       "_view_module": "@jupyter-widgets/base",
       "_view_module_version": "2.0.0",
       "_view_name": "LayoutView",
       "align_content": null,
       "align_items": null,
       "align_self": null,
       "border_bottom": null,
       "border_left": null,
       "border_right": null,
       "border_top": null,
       "bottom": null,
       "display": null,
       "flex": null,
       "flex_flow": null,
       "grid_area": null,
       "grid_auto_columns": null,
       "grid_auto_flow": null,
       "grid_auto_rows": null,
       "grid_column": null,
       "grid_gap": null,
       "grid_row": null,
       "grid_template_areas": null,
       "grid_template_columns": null,
       "grid_template_rows": null,
       "height": null,
       "justify_content": null,
       "justify_items": null,
       "left": null,
       "margin": null,
       "max_height": null,
       "max_width": null,
       "min_height": null,
       "min_width": null,
       "object_fit": null,
       "object_position": null,
       "order": null,
       "overflow": null,
       "padding": null,
       "right": null,
       "top": null,
       "visibility": null,
       "width": null
      }
     }
    },
    "version_major": 2,
    "version_minor": 0
   }
  }
 },
 "nbformat": 4,
 "nbformat_minor": 5
}